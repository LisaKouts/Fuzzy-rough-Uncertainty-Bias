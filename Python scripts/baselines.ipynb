{
  "nbformat": 4,
  "nbformat_minor": 0,
  "metadata": {
    "kernelspec": {
      "display_name": "Python 3",
      "language": "python",
      "name": "python3"
    },
    "language_info": {
      "codemirror_mode": {
        "name": "ipython",
        "version": 3
      },
      "file_extension": ".py",
      "mimetype": "text/x-python",
      "name": "python",
      "nbconvert_exporter": "python",
      "pygments_lexer": "ipython3",
      "version": "3.7.9"
    },
    "colab": {
      "name": "FRU - aif.sklearn baseline measures.ipynb",
      "provenance": [],
      "collapsed_sections": []
    }
  },
  "cells": [
    {
      "cell_type": "markdown",
      "metadata": {
        "id": "_UGRm_65SVuD"
      },
      "source": [
        "# Baseline measures"
      ]
    },
    {
      "cell_type": "markdown",
      "metadata": {
        "id": "TsrSZ1O8Q4-T"
      },
      "source": [
        "Step1. Import packages\n",
        "\n",
        "The sub-package used to compute the baseline measures is aif360.sklearn. This package allows users to apply the bias metrics on their own datasets. For more information, please refer to\n",
        "https://github.com/Trusted-AI/AIF360/tree/master/aif360/sklearn."
      ]
    },
    {
      "cell_type": "code",
      "metadata": {
        "id": "cd98BWjnQsX1",
        "colab": {
          "base_uri": "https://localhost:8080/"
        },
        "outputId": "32402ae5-ca92-43e2-e5a4-0152eff25a63"
      },
      "source": [
        "import numpy as np\n",
        "import pandas as pd\n",
        "import random\n",
        "from sklearn.preprocessing import LabelEncoder\n",
        "!pip install 'aif360[OptimPreproc]' \n",
        "\n",
        "from sklearn.linear_model import LogisticRegression, LogisticRegressionCV, SGDClassifier\n",
        "from sklearn.model_selection import train_test_split, KFold, cross_val_score\n",
        "from aif360.sklearn.metrics import consistency_score,generalized_entropy_error,generalized_entropy_index,theil_index,coefficient_of_variation\n",
        "from aif360.sklearn.metrics import statistical_parity_difference,disparate_impact_ratio,equal_opportunity_difference,average_odds_difference\n",
        "from aif360.sklearn.datasets import standardize_dataset, to_dataframe\n",
        "from sklearn.neighbors import NearestNeighbors, KNeighborsClassifier"
      ],
      "execution_count": 1,
      "outputs": [
        {
          "output_type": "stream",
          "name": "stdout",
          "text": [
            "Installing collected packages: slicer, shap, memory-profiler, tempeh, aif360\n",
            "Successfully installed aif360-0.4.0 memory-profiler-0.60.0 shap-0.40.0 slicer-0.0.7 tempeh-0.1.12\n"
          ]
        }
      ]
    },
    {
      "cell_type": "markdown",
      "source": [
        "Preprocess dataset"
      ],
      "metadata": {
        "id": "n-OGKJ3qk4aC"
      }
    },
    {
      "cell_type": "code",
      "source": [
        "df = pd.read_csv('german.data', na_values='?', header=None, sep=' ')\n",
        "cols = ['Status_of_existing_checking_account','Duration_in_month', 'Credit_history', 'Purpose', 'Credit_amount', 'Savings_accountbonds', 'Present_employment_since', 'Installment_rate_in_percentage_of_disposable_income', 'Personal_status_and_sex', 'Other_debtorsguarantors', 'Present_residence_since', 'Property', 'Age_in_years', 'Other_installment_plans', 'Housing', 'Number_of_existing_credits_at_this_bank', 'Job', 'Number_of_people_being_liable_to_provide_maintenance_for', 'Telephone', 'Foreign_worker', 'Creditworthiness']\n",
        "df.columns = cols\n",
        "\n",
        "# Since the numeric variable 'Number_of_people_being_liable_to_provide_maintenance_for' is dichotomous, it's going to be treated as a nominal variable.\n",
        "df['Number_of_people_being_liable_to_provide_maintenance_for'] = df['Number_of_people_being_liable_to_provide_maintenance_for'].astype('object')\n",
        "#df['Creditworthiness'] = df['Creditworthiness'].astype('object')\n",
        "\n",
        "# specify numeric and nominal columns\n",
        "numeric = [False if df[col].dtype == 'object' else True for col in df]\n",
        "nominal = [True if df[col].dtype == 'object' else False for col in df]\n",
        "\n",
        "# normalize numeric variables\n",
        "num=df.loc[:,numeric].values[:,:-1] # exclude target variable\n",
        "scaled=np.subtract(num,np.min(num,axis=0))/np.subtract(np.max(num,axis=0),np.min(num,axis=0))\n",
        "df[df.columns[numeric][:-1]] = pd.DataFrame(scaled, columns=df.columns[numeric][:-1])\n",
        "\n",
        "# recode 'Personal_status_and_sex' based on AIF360's preprocessing\n",
        "df['Personal_status_and_sex'] = np.where(df['Personal_status_and_sex'] == 'A92', 'female', 'male')\n",
        "\n",
        "# label encode nominal variables\n",
        "lb = LabelEncoder()\n",
        "for col in df[df.columns[nominal]]:\n",
        "  df[col] = lb.fit_transform(df[col])"
      ],
      "metadata": {
        "id": "kbYUwedcfGpv"
      },
      "execution_count": 59,
      "outputs": []
    },
    {
      "cell_type": "markdown",
      "metadata": {
        "id": "jfxSTFbwiUGh"
      },
      "source": [
        "Step2. Preprocess dataset based on AIF360's guidelines and Initialize objects.\n",
        "\n",
        "For more information about preprocessing please refer to https://aif360.readthedocs.io/en/latest/modules/generated/aif360.sklearn.datasets.standardize_dataset.html#aif360.sklearn.datasets.standardize_dataset.  "
      ]
    },
    {
      "cell_type": "code",
      "metadata": {
        "id": "dFzChNY0V6i_"
      },
      "source": [
        "# preprocess data following aif360.sklearn instructions\n",
        "X,y = standardize_dataset(df,prot_attr=['Personal_status_and_sex','Age_in_years'], target = 'Creditworthiness')"
      ],
      "execution_count": 60,
      "outputs": []
    },
    {
      "cell_type": "markdown",
      "metadata": {
        "id": "GnyXDVPWSVuQ"
      },
      "source": [
        "Step3. Compute individal and group fairness baseline measures\n",
        "\n",
        "**Individual fairness metrics**:\n",
        "- Consistency score: measures how similar the labels are for similar instances\n",
        "- Generalised entropy error: measures inequality over a population. This algorithm compares the predictions made by a classifier with the ground truth. To that end, a LogisticRegression is used. Note that no test-train split is made as well as no hyperparameter tuning. \n",
        "\n",
        "First, we compute measures using all attributes in the dataset. "
      ]
    },
    {
      "cell_type": "code",
      "source": [
        "# Dataset names: German, Compas, Titanic, Synthetic3\n",
        "dataset_name = 'German' \n",
        "prot1 =  'Personal_status_and_sex'\n",
        "prot2 = 'Age_in_years' \n",
        "target = 'Creditworthiness'\n",
        "pos_label = 1\n",
        "\n",
        "# initialize objects\n",
        "dataset = [] # dataset name\n",
        "consistency = [] # consistency scores before and after excluding protected features\n",
        "generalized_entropy = [] # GEE before and after excluding protected features"
      ],
      "metadata": {
        "id": "Lz_enMyRy4cV"
      },
      "execution_count": 61,
      "outputs": []
    },
    {
      "cell_type": "code",
      "metadata": {
        "id": "d7is6I3MV94S"
      },
      "source": [
        "# Consistency score including all attributes in the dataset\n",
        "name = dataset_name+'_all_attributes'\n",
        "dataset.append(name) # \n",
        "\n",
        "X,y = standardize_dataset(df,prot_attr=[prot1,prot2],target=target)\n",
        "y = y.astype('float64')\n",
        "consistency.append(consistency_score(X, y))\n",
        "neigh = KNeighborsClassifier(n_neighbors=5).fit(X, y.astype('int64'))\n",
        "#print(neigh.score(X,y.astype('int64')))\n",
        "\n",
        "\n",
        "# Consistency score excluding a protected attribute from the dataset\n",
        "name = dataset_name+'_excl_'+prot1\n",
        "dataset.append(name)\n",
        "X,y = standardize_dataset(df,prot_attr=[prot1,prot2],dropcols=[prot1],target=target)\n",
        "y = y.astype('float64')\n",
        "\n",
        "consistency.append(consistency_score(X, y))\n",
        "neigh = KNeighborsClassifier(n_neighbors=5).fit(X, y)\n",
        "#print(neigh.score(X,y))\n",
        "\n",
        "# Consistency score excluding the other protected attribute from the dataset\n",
        "name = dataset_name+'_excl_'+prot2\n",
        "dataset.append(name) \n",
        "\n",
        "# excl prot2\n",
        "X,y = standardize_dataset(df,prot_attr=[prot1,prot2],\n",
        "                          dropcols=[prot2],target=target)\n",
        "y = y.astype('float64')\n",
        "\n",
        "consistency.append(consistency_score(X, y))\n",
        "neigh = KNeighborsClassifier(n_neighbors=5).fit(X, y)\n",
        "#print(neigh.score(X,y))"
      ],
      "execution_count": 62,
      "outputs": []
    },
    {
      "cell_type": "code",
      "source": [
        "# Generalized Entropy Error including all attributes in the dataset\n",
        "X,y = standardize_dataset(df,prot_attr=[prot1,prot2],target=target)\n",
        "y = y.astype('float64')\n",
        "\n",
        "model = LogisticRegression(max_iter=1000,random_state=1).fit(X,y)\n",
        "y_pred = model.predict(X)\n",
        "#print(model.score(X,y))\n",
        "\n",
        "generalized_entropy.append(generalized_entropy_error(y, y_pred,pos_label=pos_label))\n",
        "\n",
        "# Generalized Entropy Error excluding a protected attribute from the dataset\n",
        "X,y = standardize_dataset(df,prot_attr=[prot1,prot2],dropcols=[prot1],target=target)\n",
        "y = y.astype('float64')\n",
        "model = LogisticRegression(max_iter=1000,random_state=1)\n",
        "model.fit(X,y)\n",
        "y_pred = model.predict(X)\n",
        "#print(model.score(X,y))\n",
        "\n",
        "generalized_entropy.append(generalized_entropy_error(y, y_pred,pos_label=pos_label))\n",
        "\n",
        "# Generalized Entropy Error excluding another protected attribute from the dataset\n",
        "X,y = standardize_dataset(df,prot_attr=[prot1,prot2],dropcols=[prot2],target=target)\n",
        "y = y.astype('float64')\n",
        "model = LogisticRegression(max_iter=1000,random_state=1)\n",
        "model.fit(X,y)\n",
        "y_pred = model.predict(X)\n",
        "#print(model.score(X,y))\n",
        "\n",
        "generalized_entropy.append(generalized_entropy_error(y, y_pred,pos_label=pos_label))"
      ],
      "metadata": {
        "id": "5xnge_UkKcln"
      },
      "execution_count": null,
      "outputs": []
    },
    {
      "cell_type": "markdown",
      "metadata": {
        "id": "qWs1sGmWnlTb"
      },
      "source": [
        "Second, we exclude the attribute gender from the dataset and compute measures once more."
      ]
    },
    {
      "cell_type": "code",
      "source": [
        "baseline = pd.concat((np.round(pd.Series(consistency, name='Consistency'),3),np.round(pd.Series(generalized_entropy, name='GEE'),3)),1)\n",
        "baseline.index = dataset\n",
        "baseline"
      ],
      "metadata": {
        "colab": {
          "base_uri": "https://localhost:8080/",
          "height": 161
        },
        "id": "towccIgPgdBw",
        "outputId": "d0a5d4cb-5dc0-48a5-c62c-0f2b94bb467f"
      },
      "execution_count": 64,
      "outputs": [
        {
          "output_type": "stream",
          "name": "stderr",
          "text": [
            "In a future version of pandas all arguments of concat except for the argument 'objs' will be keyword-only\n"
          ]
        },
        {
          "output_type": "execute_result",
          "data": {
            "text/plain": [
              "                                     Consistency    GEE\n",
              "German_all_attributes                      0.748  0.093\n",
              "German_excl_Personal_status_and_sex        0.745  0.096\n",
              "German_excl_Age_in_years                   0.747  0.093"
            ],
            "text/html": [
              "\n",
              "  <div id=\"df-a9c9615f-917f-49d7-8fca-fce1dffdd3f8\">\n",
              "    <div class=\"colab-df-container\">\n",
              "      <div>\n",
              "<style scoped>\n",
              "    .dataframe tbody tr th:only-of-type {\n",
              "        vertical-align: middle;\n",
              "    }\n",
              "\n",
              "    .dataframe tbody tr th {\n",
              "        vertical-align: top;\n",
              "    }\n",
              "\n",
              "    .dataframe thead th {\n",
              "        text-align: right;\n",
              "    }\n",
              "</style>\n",
              "<table border=\"1\" class=\"dataframe\">\n",
              "  <thead>\n",
              "    <tr style=\"text-align: right;\">\n",
              "      <th></th>\n",
              "      <th>Consistency</th>\n",
              "      <th>GEE</th>\n",
              "    </tr>\n",
              "  </thead>\n",
              "  <tbody>\n",
              "    <tr>\n",
              "      <th>German_all_attributes</th>\n",
              "      <td>0.748</td>\n",
              "      <td>0.093</td>\n",
              "    </tr>\n",
              "    <tr>\n",
              "      <th>German_excl_Personal_status_and_sex</th>\n",
              "      <td>0.745</td>\n",
              "      <td>0.096</td>\n",
              "    </tr>\n",
              "    <tr>\n",
              "      <th>German_excl_Age_in_years</th>\n",
              "      <td>0.747</td>\n",
              "      <td>0.093</td>\n",
              "    </tr>\n",
              "  </tbody>\n",
              "</table>\n",
              "</div>\n",
              "      <button class=\"colab-df-convert\" onclick=\"convertToInteractive('df-a9c9615f-917f-49d7-8fca-fce1dffdd3f8')\"\n",
              "              title=\"Convert this dataframe to an interactive table.\"\n",
              "              style=\"display:none;\">\n",
              "        \n",
              "  <svg xmlns=\"http://www.w3.org/2000/svg\" height=\"24px\"viewBox=\"0 0 24 24\"\n",
              "       width=\"24px\">\n",
              "    <path d=\"M0 0h24v24H0V0z\" fill=\"none\"/>\n",
              "    <path d=\"M18.56 5.44l.94 2.06.94-2.06 2.06-.94-2.06-.94-.94-2.06-.94 2.06-2.06.94zm-11 1L8.5 8.5l.94-2.06 2.06-.94-2.06-.94L8.5 2.5l-.94 2.06-2.06.94zm10 10l.94 2.06.94-2.06 2.06-.94-2.06-.94-.94-2.06-.94 2.06-2.06.94z\"/><path d=\"M17.41 7.96l-1.37-1.37c-.4-.4-.92-.59-1.43-.59-.52 0-1.04.2-1.43.59L10.3 9.45l-7.72 7.72c-.78.78-.78 2.05 0 2.83L4 21.41c.39.39.9.59 1.41.59.51 0 1.02-.2 1.41-.59l7.78-7.78 2.81-2.81c.8-.78.8-2.07 0-2.86zM5.41 20L4 18.59l7.72-7.72 1.47 1.35L5.41 20z\"/>\n",
              "  </svg>\n",
              "      </button>\n",
              "      \n",
              "  <style>\n",
              "    .colab-df-container {\n",
              "      display:flex;\n",
              "      flex-wrap:wrap;\n",
              "      gap: 12px;\n",
              "    }\n",
              "\n",
              "    .colab-df-convert {\n",
              "      background-color: #E8F0FE;\n",
              "      border: none;\n",
              "      border-radius: 50%;\n",
              "      cursor: pointer;\n",
              "      display: none;\n",
              "      fill: #1967D2;\n",
              "      height: 32px;\n",
              "      padding: 0 0 0 0;\n",
              "      width: 32px;\n",
              "    }\n",
              "\n",
              "    .colab-df-convert:hover {\n",
              "      background-color: #E2EBFA;\n",
              "      box-shadow: 0px 1px 2px rgba(60, 64, 67, 0.3), 0px 1px 3px 1px rgba(60, 64, 67, 0.15);\n",
              "      fill: #174EA6;\n",
              "    }\n",
              "\n",
              "    [theme=dark] .colab-df-convert {\n",
              "      background-color: #3B4455;\n",
              "      fill: #D2E3FC;\n",
              "    }\n",
              "\n",
              "    [theme=dark] .colab-df-convert:hover {\n",
              "      background-color: #434B5C;\n",
              "      box-shadow: 0px 1px 3px 1px rgba(0, 0, 0, 0.15);\n",
              "      filter: drop-shadow(0px 1px 2px rgba(0, 0, 0, 0.3));\n",
              "      fill: #FFFFFF;\n",
              "    }\n",
              "  </style>\n",
              "\n",
              "      <script>\n",
              "        const buttonEl =\n",
              "          document.querySelector('#df-a9c9615f-917f-49d7-8fca-fce1dffdd3f8 button.colab-df-convert');\n",
              "        buttonEl.style.display =\n",
              "          google.colab.kernel.accessAllowed ? 'block' : 'none';\n",
              "\n",
              "        async function convertToInteractive(key) {\n",
              "          const element = document.querySelector('#df-a9c9615f-917f-49d7-8fca-fce1dffdd3f8');\n",
              "          const dataTable =\n",
              "            await google.colab.kernel.invokeFunction('convertToInteractive',\n",
              "                                                     [key], {});\n",
              "          if (!dataTable) return;\n",
              "\n",
              "          const docLinkHtml = 'Like what you see? Visit the ' +\n",
              "            '<a target=\"_blank\" href=https://colab.research.google.com/notebooks/data_table.ipynb>data table notebook</a>'\n",
              "            + ' to learn more about interactive tables.';\n",
              "          element.innerHTML = '';\n",
              "          dataTable['output_type'] = 'display_data';\n",
              "          await google.colab.output.renderOutput(dataTable, element);\n",
              "          const docLink = document.createElement('div');\n",
              "          docLink.innerHTML = docLinkHtml;\n",
              "          element.appendChild(docLink);\n",
              "        }\n",
              "      </script>\n",
              "    </div>\n",
              "  </div>\n",
              "  "
            ]
          },
          "metadata": {},
          "execution_count": 64
        }
      ]
    },
    {
      "cell_type": "markdown",
      "source": [
        "## Group Fairness"
      ],
      "metadata": {
        "id": "NKvRRoJb0cKh"
      }
    },
    {
      "cell_type": "markdown",
      "metadata": {
        "id": "wOlvkd-Fb65e"
      },
      "source": [
        "**Group fairness metrics**:\n",
        "- Statistical parity difference\n",
        "- Disparate impact\n",
        "- Equal opportunity difference\n",
        "- Average odds difference"
      ]
    },
    {
      "cell_type": "code",
      "source": [
        "dataset_name = 'German' \n",
        "prot1 =  'Personal_status_and_sex' \n",
        "prot2 = 'Age_in_years' \n",
        "target = 'Creditworthiness' \n",
        "pos_label = 1\n",
        "\n",
        "# initialize objects\n",
        "dataset = [] # scenario\n",
        "stat_par = [] \n",
        "disp_im = []\n",
        "eq_opp = []\n",
        "ave_odds = []"
      ],
      "metadata": {
        "id": "QNfzKprjiQFu"
      },
      "execution_count": 75,
      "outputs": []
    },
    {
      "cell_type": "markdown",
      "source": [
        "Group fairness metrics require numeric features to be discretized. Based on the literature, 'Age' is discretized in the following manner: people older or equal to 25 years old are 'old' (0) and people younger than 25 are 'young' (1)."
      ],
      "metadata": {
        "id": "89O8Nn5BmcT7"
      }
    },
    {
      "cell_type": "code",
      "source": [
        "# preprocess data following aif360.sklearn instructions\n",
        "X,y = standardize_dataset(df,prot_attr=[prot1,prot2],target=target)\n",
        "y = y.astype('float')\n",
        "\n",
        "# discretize age\n",
        "age_in_years = df.Age_in_years * (df_raw.Age_in_years.max() - df_raw.Age_in_years.min()) + df_raw.Age_in_years.min()\n",
        "X['Age_in_years'] = age_in_years.values\n",
        "X.Age_in_years = np.where(X.Age_in_years>25,int(0),int(1)) # only for German credit\n",
        "\n",
        "model = LogisticRegression(max_iter=1000,random_state=1)\n",
        "model.fit(X,y)\n",
        "y_pred = model.predict(X)"
      ],
      "metadata": {
        "id": "RbVeC2heIOUn"
      },
      "execution_count": 76,
      "outputs": []
    },
    {
      "cell_type": "markdown",
      "metadata": {
        "id": "SUp-PCQtvp4U"
      },
      "source": [
        "We compute the four group fairness measures by setting `prot_attr` parameter to the index of the protected attribute.\n",
        "\n",
        "First, we compute the metrics focusing on gender. `priv_group` is 1, i.e. males."
      ]
    },
    {
      "cell_type": "code",
      "metadata": {
        "id": "T4INo18veIAs"
      },
      "source": [
        "dataset.append('Personal_status_and_sex/female')\n",
        "stat_par.append(statistical_parity_difference(y,y_pred,prot_attr=prot1,pos_label=pos_label,priv_group=1))\n",
        "disp_im.append(disparate_impact_ratio(y,y_pred,prot_attr=prot1,pos_label=pos_label,priv_group=1))\n",
        "eq_opp.append(equal_opportunity_difference(y,y_pred,prot1,pos_label=pos_label,priv_group=1))\n",
        "ave_odds.append(average_odds_difference(y,y_pred,prot1,pos_label=pos_label,priv_group=1))"
      ],
      "execution_count": 77,
      "outputs": []
    },
    {
      "cell_type": "markdown",
      "metadata": {
        "id": "wbB2HOG0woYY"
      },
      "source": [
        "Second, we compute the metrics focusing on age. `priv_group` is 0, i.e. people older than 25 years old."
      ]
    },
    {
      "cell_type": "code",
      "metadata": {
        "id": "JaWb5j44SVuX"
      },
      "source": [
        "dataset.append('Age_in_years/young')\n",
        "stat_par.append(statistical_parity_difference(y,y_pred,prot_attr=prot2,pos_label=pos_label,priv_group=0)) \n",
        "disp_im.append(disparate_impact_ratio(y,y_pred,prot_attr=prot2,pos_label=pos_label,priv_group=0))\n",
        "eq_opp.append(equal_opportunity_difference(y,y_pred,prot_attr=prot2,pos_label=pos_label,priv_group=0))\n",
        "ave_odds.append(average_odds_difference(y,y_pred,prot_attr=prot2,pos_label=pos_label,priv_group=0))"
      ],
      "execution_count": 78,
      "outputs": []
    },
    {
      "cell_type": "markdown",
      "metadata": {
        "id": "OmGmi8-AxaLT"
      },
      "source": [
        "Finally, we merge the two."
      ]
    },
    {
      "cell_type": "code",
      "metadata": {
        "id": "3xDr6xq0hiUF",
        "colab": {
          "base_uri": "https://localhost:8080/",
          "height": 112
        },
        "outputId": "aafb0e04-e7ee-4817-f464-a43f31743b4a"
      },
      "source": [
        "pd.DataFrame(np.array([stat_par, disp_im, eq_opp, ave_odds]).T, \n",
        "             columns = ['Statistical Parity', 'Disparate Impact', \n",
        "             'Equal Opportunity', 'Average Odds'], index = dataset)"
      ],
      "execution_count": 79,
      "outputs": [
        {
          "output_type": "execute_result",
          "data": {
            "text/plain": [
              "                                Statistical Parity  Disparate Impact  \\\n",
              "Personal_status_and_sex/female           -0.135624          0.833190   \n",
              "Age_in_years/young                       -0.229459          0.770541   \n",
              "\n",
              "                                Equal Opportunity  Average Odds  \n",
              "Personal_status_and_sex/female          -0.052094     -0.134458  \n",
              "Age_in_years/young                      -0.107296     -0.311173  "
            ],
            "text/html": [
              "\n",
              "  <div id=\"df-9b0f6a2e-43e4-4c14-a391-a0c05187f6a9\">\n",
              "    <div class=\"colab-df-container\">\n",
              "      <div>\n",
              "<style scoped>\n",
              "    .dataframe tbody tr th:only-of-type {\n",
              "        vertical-align: middle;\n",
              "    }\n",
              "\n",
              "    .dataframe tbody tr th {\n",
              "        vertical-align: top;\n",
              "    }\n",
              "\n",
              "    .dataframe thead th {\n",
              "        text-align: right;\n",
              "    }\n",
              "</style>\n",
              "<table border=\"1\" class=\"dataframe\">\n",
              "  <thead>\n",
              "    <tr style=\"text-align: right;\">\n",
              "      <th></th>\n",
              "      <th>Statistical Parity</th>\n",
              "      <th>Disparate Impact</th>\n",
              "      <th>Equal Opportunity</th>\n",
              "      <th>Average Odds</th>\n",
              "    </tr>\n",
              "  </thead>\n",
              "  <tbody>\n",
              "    <tr>\n",
              "      <th>Personal_status_and_sex/female</th>\n",
              "      <td>-0.135624</td>\n",
              "      <td>0.833190</td>\n",
              "      <td>-0.052094</td>\n",
              "      <td>-0.134458</td>\n",
              "    </tr>\n",
              "    <tr>\n",
              "      <th>Age_in_years/young</th>\n",
              "      <td>-0.229459</td>\n",
              "      <td>0.770541</td>\n",
              "      <td>-0.107296</td>\n",
              "      <td>-0.311173</td>\n",
              "    </tr>\n",
              "  </tbody>\n",
              "</table>\n",
              "</div>\n",
              "      <button class=\"colab-df-convert\" onclick=\"convertToInteractive('df-9b0f6a2e-43e4-4c14-a391-a0c05187f6a9')\"\n",
              "              title=\"Convert this dataframe to an interactive table.\"\n",
              "              style=\"display:none;\">\n",
              "        \n",
              "  <svg xmlns=\"http://www.w3.org/2000/svg\" height=\"24px\"viewBox=\"0 0 24 24\"\n",
              "       width=\"24px\">\n",
              "    <path d=\"M0 0h24v24H0V0z\" fill=\"none\"/>\n",
              "    <path d=\"M18.56 5.44l.94 2.06.94-2.06 2.06-.94-2.06-.94-.94-2.06-.94 2.06-2.06.94zm-11 1L8.5 8.5l.94-2.06 2.06-.94-2.06-.94L8.5 2.5l-.94 2.06-2.06.94zm10 10l.94 2.06.94-2.06 2.06-.94-2.06-.94-.94-2.06-.94 2.06-2.06.94z\"/><path d=\"M17.41 7.96l-1.37-1.37c-.4-.4-.92-.59-1.43-.59-.52 0-1.04.2-1.43.59L10.3 9.45l-7.72 7.72c-.78.78-.78 2.05 0 2.83L4 21.41c.39.39.9.59 1.41.59.51 0 1.02-.2 1.41-.59l7.78-7.78 2.81-2.81c.8-.78.8-2.07 0-2.86zM5.41 20L4 18.59l7.72-7.72 1.47 1.35L5.41 20z\"/>\n",
              "  </svg>\n",
              "      </button>\n",
              "      \n",
              "  <style>\n",
              "    .colab-df-container {\n",
              "      display:flex;\n",
              "      flex-wrap:wrap;\n",
              "      gap: 12px;\n",
              "    }\n",
              "\n",
              "    .colab-df-convert {\n",
              "      background-color: #E8F0FE;\n",
              "      border: none;\n",
              "      border-radius: 50%;\n",
              "      cursor: pointer;\n",
              "      display: none;\n",
              "      fill: #1967D2;\n",
              "      height: 32px;\n",
              "      padding: 0 0 0 0;\n",
              "      width: 32px;\n",
              "    }\n",
              "\n",
              "    .colab-df-convert:hover {\n",
              "      background-color: #E2EBFA;\n",
              "      box-shadow: 0px 1px 2px rgba(60, 64, 67, 0.3), 0px 1px 3px 1px rgba(60, 64, 67, 0.15);\n",
              "      fill: #174EA6;\n",
              "    }\n",
              "\n",
              "    [theme=dark] .colab-df-convert {\n",
              "      background-color: #3B4455;\n",
              "      fill: #D2E3FC;\n",
              "    }\n",
              "\n",
              "    [theme=dark] .colab-df-convert:hover {\n",
              "      background-color: #434B5C;\n",
              "      box-shadow: 0px 1px 3px 1px rgba(0, 0, 0, 0.15);\n",
              "      filter: drop-shadow(0px 1px 2px rgba(0, 0, 0, 0.3));\n",
              "      fill: #FFFFFF;\n",
              "    }\n",
              "  </style>\n",
              "\n",
              "      <script>\n",
              "        const buttonEl =\n",
              "          document.querySelector('#df-9b0f6a2e-43e4-4c14-a391-a0c05187f6a9 button.colab-df-convert');\n",
              "        buttonEl.style.display =\n",
              "          google.colab.kernel.accessAllowed ? 'block' : 'none';\n",
              "\n",
              "        async function convertToInteractive(key) {\n",
              "          const element = document.querySelector('#df-9b0f6a2e-43e4-4c14-a391-a0c05187f6a9');\n",
              "          const dataTable =\n",
              "            await google.colab.kernel.invokeFunction('convertToInteractive',\n",
              "                                                     [key], {});\n",
              "          if (!dataTable) return;\n",
              "\n",
              "          const docLinkHtml = 'Like what you see? Visit the ' +\n",
              "            '<a target=\"_blank\" href=https://colab.research.google.com/notebooks/data_table.ipynb>data table notebook</a>'\n",
              "            + ' to learn more about interactive tables.';\n",
              "          element.innerHTML = '';\n",
              "          dataTable['output_type'] = 'display_data';\n",
              "          await google.colab.output.renderOutput(dataTable, element);\n",
              "          const docLink = document.createElement('div');\n",
              "          docLink.innerHTML = docLinkHtml;\n",
              "          element.appendChild(docLink);\n",
              "        }\n",
              "      </script>\n",
              "    </div>\n",
              "  </div>\n",
              "  "
            ]
          },
          "metadata": {},
          "execution_count": 79
        }
      ]
    }
  ]
}
