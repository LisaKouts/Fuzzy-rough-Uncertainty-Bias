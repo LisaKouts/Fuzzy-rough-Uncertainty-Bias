{
  "nbformat": 4,
  "nbformat_minor": 0,
  "metadata": {
    "kernelspec": {
      "display_name": "Python 3",
      "language": "python",
      "name": "python3"
    },
    "language_info": {
      "codemirror_mode": {
        "name": "ipython",
        "version": 3
      },
      "file_extension": ".py",
      "mimetype": "text/x-python",
      "name": "python",
      "nbconvert_exporter": "python",
      "pygments_lexer": "ipython3",
      "version": "3.7.9"
    },
    "colab": {
      "name": "FRU - aif.sklearn baseline measures.ipynb",
      "provenance": [],
      "collapsed_sections": []
    }
  },
  "cells": [
    {
      "cell_type": "markdown",
      "metadata": {
        "id": "_UGRm_65SVuD"
      },
      "source": [
        "# Baseline measures"
      ]
    },
    {
      "cell_type": "markdown",
      "metadata": {
        "id": "TsrSZ1O8Q4-T"
      },
      "source": [
        "Step1. Import packages\n",
        "\n",
        "The sub-package used to compute the baseline measures is aif360.sklearn. This package allows users to apply the bias metrics on their own datasets. For more information, please refer to\n",
        "https://github.com/Trusted-AI/AIF360/tree/master/aif360/sklearn."
      ]
    },
    {
      "cell_type": "code",
      "metadata": {
        "id": "cd98BWjnQsX1"
      },
      "source": [
        "import numpy as np\n",
        "import pandas as pd\n",
        "import random\n",
        "from sklearn.preprocessing import LabelEncoder\n",
        "from sklearn.preprocessing import LabelEncoder\n",
        "!pip install 'aif360[OptimPreproc]' \n",
        "\n",
        "from sklearn.linear_model import LogisticRegression, LogisticRegressionCV, SGDClassifier\n",
        "from sklearn.model_selection import train_test_split, KFold, cross_val_score\n",
        "from aif360.sklearn.metrics import consistency_score,generalized_entropy_error,generalized_entropy_index,theil_index,coefficient_of_variation\n",
        "from aif360.sklearn.metrics import statistical_parity_difference,disparate_impact_ratio,equal_opportunity_difference,average_odds_difference\n",
        "from aif360.sklearn.datasets import standardize_dataset, to_dataframe\n",
        "from sklearn.neighbors import NearestNeighbors, KNeighborsClassifier"
      ],
      "execution_count": 3,
      "outputs": []
    },
    {
      "cell_type": "markdown",
      "source": [
        "Preprocess dataset"
      ],
      "metadata": {
        "id": "n-OGKJ3qk4aC"
      }
    },
    {
      "cell_type": "code",
      "source": [
        "df_raw = pd.read_csv('german.data', sep=' ', header=None, names = cols)\n",
        "\n",
        "cols = ['Status_of_existing_checking_account','Duration_in_month', \n",
        "        'Credit_history', 'Purpose', 'Credit_amount', 'Savings_accountbonds', \n",
        "        'Present_employment_since', 'Installment_rate_in_percentage_of_disposable_income', \n",
        "        'Personal_status_and_sex', 'Other_debtorsguarantors', 'Present_residence_since', \n",
        "        'Property', 'Age_in_years', 'Other_installment_plans', 'Housing', \n",
        "        'Number_of_existing_credits_at_this_bank', 'Job', 'Number_of_people_being_liable_to_provide_maintenance_for', \n",
        "        'Telephone', 'Foreign_worker', 'Creditworthiness']\n",
        "df_raw.columns = cols\n",
        "df_raw.sort_values('Creditworthiness', kind='stable', inplace=True,ignore_index=True)\n",
        "\n",
        "# Since the numeric variable 'Number_of_people_being_liable_to_provide_maintenance_for' is dichotomous, it's going to be treated as a nominal variable.\n",
        "df_raw['Number_of_people_being_liable_to_provide_maintenance_for'] = df_raw['Number_of_people_being_liable_to_provide_maintenance_for'].astype('object')\n",
        "#df_raw['Creditworthiness'] = df_raw['Creditworthiness'].astype('object')\n",
        "\n",
        "# Separate nominal and numeric columns\n",
        "nom_cols = df_raw.select_dtypes(include='object').columns\n",
        "num_cols = df_raw.select_dtypes(exclude='object').columns\n",
        "\n",
        "# Recode nominal variables\n",
        "cleanup_nums = {\"Status_of_existing_checking_account\": {\"A11\":0, \"A14\":3, \"A12\":1, \"A13\":2},\n",
        "                \"Credit_history\": {\"A34\":4, \"A32\":2, \"A30\":0, \"A31\":1, \"A33\":3},\n",
        "                \"Purpose\": {\"A43\":3, \"A46\":6, \"A42\":2, \"A41\":1, \"A40\":0, \"A49\":9, \"A44\":4, \"A45\":5, \"A410\":10, \"A48\":8},\n",
        "                \"Savings_accountbonds\": {\"A65\":5, \"A61\":1, \"A63\":3, \"A64\":4, \"A62\":2},\n",
        "                \"Present_employment_since\": {\"A75\":5, \"A74\":4, \"A73\":3, \"A72\":2, \"A71\":1},\n",
        "                \"Personal_status_and_sex\": {\"A93\":1, \"A91\":1, \"A92\":2, \"A94\":1},\n",
        "                \"Other_debtorsguarantors\": {\"A101\":1, \"A103\":3, \"A102\":2},\n",
        "                \"Property\": {\"A121\":1, \"A122\":2, \"A124\":4, \"A123\":3},\n",
        "                \"Other_installment_plans\": {\"A143\":3, \"A141\":1, \"A142\":2},\n",
        "                \"Housing\": {\"A152\":2, \"A153\":3, \"A151\":1},\n",
        "                \"Job\": {\"A173\":3, \"A172\":2, \"A174\":4, \"A171\":1},\n",
        "                \"Telephone\": {\"A192\":2, \"A191\":1},\n",
        "                \"Foreign_worker\": {\"A201\": 1, \"A202\":2},\n",
        "                \"Creditworthiness\": {1: 0, 2: 1}}\n",
        "df_nom = df_raw.loc[:,nom_cols] \n",
        "df_nom.replace(cleanup_nums, inplace=True)\n",
        "df_nom = df_nom.astype('object')\n",
        "\n",
        "# Min-max normalize numeric variables\n",
        "df_num = df_raw.loc[:,num_cols]\n",
        "scaled=np.subtract(df_num.values,np.min(df_num.values,axis=0))/np.subtract(np.max(df_num.values,axis=0),np.min(df_num.values,axis=0))\n",
        "df_num = pd.DataFrame(scaled, columns=df_num.columns)\n",
        "\n",
        "df = pd.concat([df_nom,df_num],axis=1)"
      ],
      "metadata": {
        "id": "dSkSHJ9ebb1t"
      },
      "execution_count": 49,
      "outputs": []
    },
    {
      "cell_type": "markdown",
      "metadata": {
        "id": "jfxSTFbwiUGh"
      },
      "source": [
        "Step2. Import and preprocess dataset. Initialize objects.\n",
        "\n",
        "Attribute 8 is *Gender* and attribute 12 is *Age*. For more information about preprocessing please refer to https://aif360.readthedocs.io/en/latest/modules/generated/aif360.sklearn.datasets.standardize_dataset.html#aif360.sklearn.datasets.standardize_dataset.  "
      ]
    },
    {
      "cell_type": "code",
      "metadata": {
        "id": "dFzChNY0V6i_"
      },
      "source": [
        "# preprocess data following aif360.sklearn instructions\n",
        "X,y = standardize_dataset(df,prot_attr=['Personal_status_and_sex','Age_in_years'], target = 'Creditworthiness')"
      ],
      "execution_count": 51,
      "outputs": []
    },
    {
      "cell_type": "markdown",
      "metadata": {
        "id": "GnyXDVPWSVuQ"
      },
      "source": [
        "Step3. Compute individal and group fairness baseline measures\n",
        "\n",
        "**Individual fairness metrics**:\n",
        "- Consistency score: measures how similar the labels are for similar instances\n",
        "- Generalised entropy error: measures inequality over a population. This algorithm compares the predictions made by a classifier with the ground truth. To that end, a LogisticRegression is used. Note that no test-train split is made as well as no hyperparameter tuning. \n",
        "\n",
        "First, we compute measures using all attributes in the dataset. "
      ]
    },
    {
      "cell_type": "code",
      "source": [
        "#German, Compas, Titanic, Synthetic3\n",
        "dataset_name = 'German' \n",
        "prot1 =  'Personal_status_and_sex'\n",
        "prot2 = 'Age_in_years' \n",
        "target = 'Creditworthiness'\n",
        "pos_label = 0\n",
        "\n",
        "# initialize objects\n",
        "dataset = [] # scenario\n",
        "consistency = [] \n",
        "generalized_entropy = []"
      ],
      "metadata": {
        "id": "Lz_enMyRy4cV"
      },
      "execution_count": 52,
      "outputs": []
    },
    {
      "cell_type": "code",
      "metadata": {
        "id": "d7is6I3MV94S"
      },
      "source": [
        "name = dataset_name+'_all_attributes'\n",
        "dataset.append(name) # \n",
        "\n",
        "X,y = standardize_dataset(df,prot_attr=[prot1,prot2],target=target)\n",
        "y = y.astype('float64')\n",
        "consistency.append(consistency_score(X, y))\n",
        "neigh = KNeighborsClassifier(n_neighbors=5).fit(X, y.astype('int64'))\n",
        "#print(neigh.score(X,y.astype('int64')))\n",
        "\n",
        "\n",
        "# excl prot1\n",
        "name = dataset_name+'_excl_'+prot1\n",
        "dataset.append(name)\n",
        "X,y = standardize_dataset(df,prot_attr=[prot1,prot2],dropcols=[prot1],target=target)\n",
        "y = y.astype('float64')\n",
        "\n",
        "consistency.append(consistency_score(X, y))\n",
        "neigh = KNeighborsClassifier(n_neighbors=5).fit(X, y)\n",
        "#print(neigh.score(X,y))\n",
        "\n",
        "name = dataset_name+'_excl_'+prot2\n",
        "dataset.append(name) #German_excl_gender, Compas_excl_race, Titanic_excl_pclass\n",
        "\n",
        "# excl prot2\n",
        "X,y = standardize_dataset(df,prot_attr=[prot1,prot2],\n",
        "                          dropcols=[prot2],target=target)\n",
        "y = y.astype('float64')\n",
        "\n",
        "consistency.append(consistency_score(X, y))\n",
        "neigh = KNeighborsClassifier(n_neighbors=5).fit(X, y)\n",
        "#print(neigh.score(X,y))"
      ],
      "execution_count": 53,
      "outputs": []
    },
    {
      "cell_type": "code",
      "source": [
        "# full\n",
        "X,y = standardize_dataset(df,prot_attr=[prot1,prot2],target=target)\n",
        "y = y.astype('float64')\n",
        "\n",
        "model = LogisticRegression(max_iter=1000,random_state=1).fit(X,y)\n",
        "y_pred = model.predict(X)\n",
        "#print(model.score(X,y))\n",
        "\n",
        "generalized_entropy.append(generalized_entropy_error(y, y_pred,pos_label=pos_label))\n",
        "\n",
        "# excl. prot1\n",
        "X,y = standardize_dataset(df,prot_attr=[prot1,prot2],dropcols=[prot1],target=target)\n",
        "y = y.astype('float64')\n",
        "model = LogisticRegression(max_iter=1000,random_state=1)\n",
        "model.fit(X,y)\n",
        "y_pred = model.predict(X)\n",
        "#print(model.score(X,y))\n",
        "\n",
        "generalized_entropy.append(generalized_entropy_error(y, y_pred,pos_label=pos_label))\n",
        "\n",
        "# excl. prot1\n",
        "X,y = standardize_dataset(df,prot_attr=[prot1,prot2],dropcols=[prot2],target=target)\n",
        "y = y.astype('float64')\n",
        "model = LogisticRegression(max_iter=1000,random_state=1)\n",
        "model.fit(X,y)\n",
        "y_pred = model.predict(X)\n",
        "#print(model.score(X,y))\n",
        "\n",
        "generalized_entropy.append(generalized_entropy_error(y, y_pred,pos_label=pos_label))"
      ],
      "metadata": {
        "id": "5xnge_UkKcln"
      },
      "execution_count": 54,
      "outputs": []
    },
    {
      "cell_type": "markdown",
      "metadata": {
        "id": "qWs1sGmWnlTb"
      },
      "source": [
        "Second, we exclude the attribute gender from the dataset and compute measures once more."
      ]
    },
    {
      "cell_type": "code",
      "source": [
        "baseline = pd.concat((np.round(pd.Series(consistency, name='Consistency'),3),np.round(pd.Series(generalized_entropy, name='GEE'),3)),1)\n",
        "baseline.index = dataset\n",
        "baseline"
      ],
      "metadata": {
        "colab": {
          "base_uri": "https://localhost:8080/",
          "height": 140
        },
        "id": "ImpQ7cl7cBek",
        "outputId": "5b3d0aed-633c-4a8e-ba1b-8f67ac5d8e96"
      },
      "execution_count": 55,
      "outputs": [
        {
          "output_type": "execute_result",
          "data": {
            "text/html": [
              "\n",
              "  <div id=\"df-2ab3d945-69be-49db-ab59-36c6e10bb6b3\">\n",
              "    <div class=\"colab-df-container\">\n",
              "      <div>\n",
              "<style scoped>\n",
              "    .dataframe tbody tr th:only-of-type {\n",
              "        vertical-align: middle;\n",
              "    }\n",
              "\n",
              "    .dataframe tbody tr th {\n",
              "        vertical-align: top;\n",
              "    }\n",
              "\n",
              "    .dataframe thead th {\n",
              "        text-align: right;\n",
              "    }\n",
              "</style>\n",
              "<table border=\"1\" class=\"dataframe\">\n",
              "  <thead>\n",
              "    <tr style=\"text-align: right;\">\n",
              "      <th></th>\n",
              "      <th>Consistency</th>\n",
              "      <th>GEE</th>\n",
              "    </tr>\n",
              "  </thead>\n",
              "  <tbody>\n",
              "    <tr>\n",
              "      <th>German_all_attributes</th>\n",
              "      <td>0.746</td>\n",
              "      <td>0.094</td>\n",
              "    </tr>\n",
              "    <tr>\n",
              "      <th>German_excl_Personal_status_and_sex</th>\n",
              "      <td>0.743</td>\n",
              "      <td>0.095</td>\n",
              "    </tr>\n",
              "    <tr>\n",
              "      <th>German_excl_Age_in_years</th>\n",
              "      <td>0.746</td>\n",
              "      <td>0.093</td>\n",
              "    </tr>\n",
              "  </tbody>\n",
              "</table>\n",
              "</div>\n",
              "      <button class=\"colab-df-convert\" onclick=\"convertToInteractive('df-2ab3d945-69be-49db-ab59-36c6e10bb6b3')\"\n",
              "              title=\"Convert this dataframe to an interactive table.\"\n",
              "              style=\"display:none;\">\n",
              "        \n",
              "  <svg xmlns=\"http://www.w3.org/2000/svg\" height=\"24px\"viewBox=\"0 0 24 24\"\n",
              "       width=\"24px\">\n",
              "    <path d=\"M0 0h24v24H0V0z\" fill=\"none\"/>\n",
              "    <path d=\"M18.56 5.44l.94 2.06.94-2.06 2.06-.94-2.06-.94-.94-2.06-.94 2.06-2.06.94zm-11 1L8.5 8.5l.94-2.06 2.06-.94-2.06-.94L8.5 2.5l-.94 2.06-2.06.94zm10 10l.94 2.06.94-2.06 2.06-.94-2.06-.94-.94-2.06-.94 2.06-2.06.94z\"/><path d=\"M17.41 7.96l-1.37-1.37c-.4-.4-.92-.59-1.43-.59-.52 0-1.04.2-1.43.59L10.3 9.45l-7.72 7.72c-.78.78-.78 2.05 0 2.83L4 21.41c.39.39.9.59 1.41.59.51 0 1.02-.2 1.41-.59l7.78-7.78 2.81-2.81c.8-.78.8-2.07 0-2.86zM5.41 20L4 18.59l7.72-7.72 1.47 1.35L5.41 20z\"/>\n",
              "  </svg>\n",
              "      </button>\n",
              "      \n",
              "  <style>\n",
              "    .colab-df-container {\n",
              "      display:flex;\n",
              "      flex-wrap:wrap;\n",
              "      gap: 12px;\n",
              "    }\n",
              "\n",
              "    .colab-df-convert {\n",
              "      background-color: #E8F0FE;\n",
              "      border: none;\n",
              "      border-radius: 50%;\n",
              "      cursor: pointer;\n",
              "      display: none;\n",
              "      fill: #1967D2;\n",
              "      height: 32px;\n",
              "      padding: 0 0 0 0;\n",
              "      width: 32px;\n",
              "    }\n",
              "\n",
              "    .colab-df-convert:hover {\n",
              "      background-color: #E2EBFA;\n",
              "      box-shadow: 0px 1px 2px rgba(60, 64, 67, 0.3), 0px 1px 3px 1px rgba(60, 64, 67, 0.15);\n",
              "      fill: #174EA6;\n",
              "    }\n",
              "\n",
              "    [theme=dark] .colab-df-convert {\n",
              "      background-color: #3B4455;\n",
              "      fill: #D2E3FC;\n",
              "    }\n",
              "\n",
              "    [theme=dark] .colab-df-convert:hover {\n",
              "      background-color: #434B5C;\n",
              "      box-shadow: 0px 1px 3px 1px rgba(0, 0, 0, 0.15);\n",
              "      filter: drop-shadow(0px 1px 2px rgba(0, 0, 0, 0.3));\n",
              "      fill: #FFFFFF;\n",
              "    }\n",
              "  </style>\n",
              "\n",
              "      <script>\n",
              "        const buttonEl =\n",
              "          document.querySelector('#df-2ab3d945-69be-49db-ab59-36c6e10bb6b3 button.colab-df-convert');\n",
              "        buttonEl.style.display =\n",
              "          google.colab.kernel.accessAllowed ? 'block' : 'none';\n",
              "\n",
              "        async function convertToInteractive(key) {\n",
              "          const element = document.querySelector('#df-2ab3d945-69be-49db-ab59-36c6e10bb6b3');\n",
              "          const dataTable =\n",
              "            await google.colab.kernel.invokeFunction('convertToInteractive',\n",
              "                                                     [key], {});\n",
              "          if (!dataTable) return;\n",
              "\n",
              "          const docLinkHtml = 'Like what you see? Visit the ' +\n",
              "            '<a target=\"_blank\" href=https://colab.research.google.com/notebooks/data_table.ipynb>data table notebook</a>'\n",
              "            + ' to learn more about interactive tables.';\n",
              "          element.innerHTML = '';\n",
              "          dataTable['output_type'] = 'display_data';\n",
              "          await google.colab.output.renderOutput(dataTable, element);\n",
              "          const docLink = document.createElement('div');\n",
              "          docLink.innerHTML = docLinkHtml;\n",
              "          element.appendChild(docLink);\n",
              "        }\n",
              "      </script>\n",
              "    </div>\n",
              "  </div>\n",
              "  "
            ],
            "text/plain": [
              "                                     Consistency    GEE\n",
              "German_all_attributes                      0.746  0.094\n",
              "German_excl_Personal_status_and_sex        0.743  0.095\n",
              "German_excl_Age_in_years                   0.746  0.093"
            ]
          },
          "metadata": {},
          "execution_count": 55
        }
      ]
    },
    {
      "cell_type": "markdown",
      "source": [
        "## Group Fairness"
      ],
      "metadata": {
        "id": "NKvRRoJb0cKh"
      }
    },
    {
      "cell_type": "markdown",
      "metadata": {
        "id": "wOlvkd-Fb65e"
      },
      "source": [
        "**Group fairness metrics**:\n",
        "- Statistical parity difference\n",
        "- Disparate impact\n",
        "- Equal opportunity difference\n",
        "- Average odds difference"
      ]
    },
    {
      "cell_type": "code",
      "source": [
        "dataset_name = 'German' \n",
        "prot1 =  'Personal_status_and_sex' \n",
        "prot2 = 'Age_in_years' \n",
        "target = 'Creditworthiness' \n",
        "pos_label = 0\n",
        "\n",
        "# initialize objects\n",
        "dataset = [] # scenario\n",
        "stat_par = [] \n",
        "disp_im = []\n",
        "eq_opp = []\n",
        "ave_odds = []"
      ],
      "metadata": {
        "id": "QNfzKprjiQFu"
      },
      "execution_count": 152,
      "outputs": []
    },
    {
      "cell_type": "code",
      "source": [
        "# preprocess data following aif360.sklearn instructions\n",
        "X,y = standardize_dataset(df,prot_attr=[prot1,prot2],target=target)\n",
        "y = y.astype('float')\n",
        "\n",
        "age_in_years = df.Age_in_years * (df_raw.Age_in_years.max() - df_raw.Age_in_years.min()) + df_raw.Age_in_years.min()\n",
        "X['Age_in_years'] = age_in_years.values\n",
        "X.Age_in_years = np.where(X.Age_in_years>25,int(0),int(1)) # only for German credit\n",
        "\n",
        "model = LogisticRegression(max_iter=1000,random_state=1)\n",
        "model.fit(X,y)\n",
        "y_pred = model.predict(X)"
      ],
      "metadata": {
        "id": "RbVeC2heIOUn"
      },
      "execution_count": 153,
      "outputs": []
    },
    {
      "cell_type": "markdown",
      "metadata": {
        "id": "SUp-PCQtvp4U"
      },
      "source": [
        "We compute the four group fairness measures by setting `prot_attr` parameter to the index of the protected attribute.\n",
        "\n",
        "First, we compute the metrics focusing on gender. `priv_group` is 1, i.e. males."
      ]
    },
    {
      "cell_type": "code",
      "metadata": {
        "id": "T4INo18veIAs"
      },
      "source": [
        "dataset.append('Personal_status_and_sex/female')\n",
        "stat_par.append(statistical_parity_difference(y,y_pred,prot_attr=prot1,pos_label=pos_label,priv_group=1))\n",
        "disp_im.append(disparate_impact_ratio(y,y_pred,prot_attr=prot1,pos_label=pos_label,priv_group=1))\n",
        "eq_opp.append(equal_opportunity_difference(y,y_pred,prot1,pos_label=pos_label,priv_group=1))\n",
        "ave_odds.append(average_odds_difference(y,y_pred,prot1,pos_label=pos_label,priv_group=1))"
      ],
      "execution_count": 154,
      "outputs": []
    },
    {
      "cell_type": "markdown",
      "metadata": {
        "id": "wbB2HOG0woYY"
      },
      "source": [
        "Second, we compute the metrics focusing on age. `priv_group` is 0, i.e. people older than 25 years old."
      ]
    },
    {
      "cell_type": "code",
      "metadata": {
        "id": "JaWb5j44SVuX"
      },
      "source": [
        "dataset.append('Age_in_years/young')\n",
        "stat_par.append(statistical_parity_difference(y,y_pred,prot_attr=prot2,pos_label=pos_label,priv_group=0)) \n",
        "disp_im.append(disparate_impact_ratio(y,y_pred,prot_attr=prot2,pos_label=pos_label,priv_group=0))\n",
        "eq_opp.append(equal_opportunity_difference(y,y_pred,prot_attr=prot2,pos_label=pos_label,priv_group=0))\n",
        "ave_odds.append(average_odds_difference(y,y_pred,prot_attr=prot2,pos_label=pos_label,priv_group=0))"
      ],
      "execution_count": 155,
      "outputs": []
    },
    {
      "cell_type": "markdown",
      "metadata": {
        "id": "OmGmi8-AxaLT"
      },
      "source": [
        "Finally, we merge the two."
      ]
    },
    {
      "cell_type": "code",
      "metadata": {
        "id": "3xDr6xq0hiUF",
        "colab": {
          "base_uri": "https://localhost:8080/",
          "height": 109
        },
        "outputId": "8217d67b-62a7-417b-b7a9-bf9d2e22c205"
      },
      "source": [
        "pd.DataFrame(np.array([stat_par, disp_im, eq_opp, ave_odds]).T, \n",
        "             columns = ['Statistical Parity', 'Disparate Impact', \n",
        "             'Equal Opportunity', 'Average Odds'], index = dataset)"
      ],
      "execution_count": 156,
      "outputs": [
        {
          "output_type": "execute_result",
          "data": {
            "text/html": [
              "\n",
              "  <div id=\"df-81d14966-3d74-43bc-b865-91ab905935a9\">\n",
              "    <div class=\"colab-df-container\">\n",
              "      <div>\n",
              "<style scoped>\n",
              "    .dataframe tbody tr th:only-of-type {\n",
              "        vertical-align: middle;\n",
              "    }\n",
              "\n",
              "    .dataframe tbody tr th {\n",
              "        vertical-align: top;\n",
              "    }\n",
              "\n",
              "    .dataframe thead th {\n",
              "        text-align: right;\n",
              "    }\n",
              "</style>\n",
              "<table border=\"1\" class=\"dataframe\">\n",
              "  <thead>\n",
              "    <tr style=\"text-align: right;\">\n",
              "      <th></th>\n",
              "      <th>Statistical Parity</th>\n",
              "      <th>Disparate Impact</th>\n",
              "      <th>Equal Opportunity</th>\n",
              "      <th>Average Odds</th>\n",
              "    </tr>\n",
              "  </thead>\n",
              "  <tbody>\n",
              "    <tr>\n",
              "      <th>Personal_status_and_sex/female</th>\n",
              "      <td>-0.135297</td>\n",
              "      <td>0.834183</td>\n",
              "      <td>-0.056102</td>\n",
              "      <td>-0.131875</td>\n",
              "    </tr>\n",
              "    <tr>\n",
              "      <th>Age_in_years/young</th>\n",
              "      <td>-0.226453</td>\n",
              "      <td>0.773547</td>\n",
              "      <td>-0.104435</td>\n",
              "      <td>-0.308070</td>\n",
              "    </tr>\n",
              "  </tbody>\n",
              "</table>\n",
              "</div>\n",
              "      <button class=\"colab-df-convert\" onclick=\"convertToInteractive('df-81d14966-3d74-43bc-b865-91ab905935a9')\"\n",
              "              title=\"Convert this dataframe to an interactive table.\"\n",
              "              style=\"display:none;\">\n",
              "        \n",
              "  <svg xmlns=\"http://www.w3.org/2000/svg\" height=\"24px\"viewBox=\"0 0 24 24\"\n",
              "       width=\"24px\">\n",
              "    <path d=\"M0 0h24v24H0V0z\" fill=\"none\"/>\n",
              "    <path d=\"M18.56 5.44l.94 2.06.94-2.06 2.06-.94-2.06-.94-.94-2.06-.94 2.06-2.06.94zm-11 1L8.5 8.5l.94-2.06 2.06-.94-2.06-.94L8.5 2.5l-.94 2.06-2.06.94zm10 10l.94 2.06.94-2.06 2.06-.94-2.06-.94-.94-2.06-.94 2.06-2.06.94z\"/><path d=\"M17.41 7.96l-1.37-1.37c-.4-.4-.92-.59-1.43-.59-.52 0-1.04.2-1.43.59L10.3 9.45l-7.72 7.72c-.78.78-.78 2.05 0 2.83L4 21.41c.39.39.9.59 1.41.59.51 0 1.02-.2 1.41-.59l7.78-7.78 2.81-2.81c.8-.78.8-2.07 0-2.86zM5.41 20L4 18.59l7.72-7.72 1.47 1.35L5.41 20z\"/>\n",
              "  </svg>\n",
              "      </button>\n",
              "      \n",
              "  <style>\n",
              "    .colab-df-container {\n",
              "      display:flex;\n",
              "      flex-wrap:wrap;\n",
              "      gap: 12px;\n",
              "    }\n",
              "\n",
              "    .colab-df-convert {\n",
              "      background-color: #E8F0FE;\n",
              "      border: none;\n",
              "      border-radius: 50%;\n",
              "      cursor: pointer;\n",
              "      display: none;\n",
              "      fill: #1967D2;\n",
              "      height: 32px;\n",
              "      padding: 0 0 0 0;\n",
              "      width: 32px;\n",
              "    }\n",
              "\n",
              "    .colab-df-convert:hover {\n",
              "      background-color: #E2EBFA;\n",
              "      box-shadow: 0px 1px 2px rgba(60, 64, 67, 0.3), 0px 1px 3px 1px rgba(60, 64, 67, 0.15);\n",
              "      fill: #174EA6;\n",
              "    }\n",
              "\n",
              "    [theme=dark] .colab-df-convert {\n",
              "      background-color: #3B4455;\n",
              "      fill: #D2E3FC;\n",
              "    }\n",
              "\n",
              "    [theme=dark] .colab-df-convert:hover {\n",
              "      background-color: #434B5C;\n",
              "      box-shadow: 0px 1px 3px 1px rgba(0, 0, 0, 0.15);\n",
              "      filter: drop-shadow(0px 1px 2px rgba(0, 0, 0, 0.3));\n",
              "      fill: #FFFFFF;\n",
              "    }\n",
              "  </style>\n",
              "\n",
              "      <script>\n",
              "        const buttonEl =\n",
              "          document.querySelector('#df-81d14966-3d74-43bc-b865-91ab905935a9 button.colab-df-convert');\n",
              "        buttonEl.style.display =\n",
              "          google.colab.kernel.accessAllowed ? 'block' : 'none';\n",
              "\n",
              "        async function convertToInteractive(key) {\n",
              "          const element = document.querySelector('#df-81d14966-3d74-43bc-b865-91ab905935a9');\n",
              "          const dataTable =\n",
              "            await google.colab.kernel.invokeFunction('convertToInteractive',\n",
              "                                                     [key], {});\n",
              "          if (!dataTable) return;\n",
              "\n",
              "          const docLinkHtml = 'Like what you see? Visit the ' +\n",
              "            '<a target=\"_blank\" href=https://colab.research.google.com/notebooks/data_table.ipynb>data table notebook</a>'\n",
              "            + ' to learn more about interactive tables.';\n",
              "          element.innerHTML = '';\n",
              "          dataTable['output_type'] = 'display_data';\n",
              "          await google.colab.output.renderOutput(dataTable, element);\n",
              "          const docLink = document.createElement('div');\n",
              "          docLink.innerHTML = docLinkHtml;\n",
              "          element.appendChild(docLink);\n",
              "        }\n",
              "      </script>\n",
              "    </div>\n",
              "  </div>\n",
              "  "
            ],
            "text/plain": [
              "                                Statistical Parity  ...  Average Odds\n",
              "Personal_status_and_sex/female           -0.135297  ...     -0.131875\n",
              "Age_in_years/young                       -0.226453  ...     -0.308070\n",
              "\n",
              "[2 rows x 4 columns]"
            ]
          },
          "metadata": {},
          "execution_count": 156
        }
      ]
    }
  ]
}