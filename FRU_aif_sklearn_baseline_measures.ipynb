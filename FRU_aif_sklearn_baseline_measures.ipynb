{
  "nbformat": 4,
  "nbformat_minor": 0,
  "metadata": {
    "kernelspec": {
      "display_name": "Python 3",
      "language": "python",
      "name": "python3"
    },
    "language_info": {
      "codemirror_mode": {
        "name": "ipython",
        "version": 3
      },
      "file_extension": ".py",
      "mimetype": "text/x-python",
      "name": "python",
      "nbconvert_exporter": "python",
      "pygments_lexer": "ipython3",
      "version": "3.7.9"
    },
    "colab": {
      "name": "FRU - aif.sklearn baseline measures.ipynb",
      "provenance": [],
      "collapsed_sections": []
    }
  },
  "cells": [
    {
      "cell_type": "markdown",
      "metadata": {
        "id": "_UGRm_65SVuD"
      },
      "source": [
        "# Baseline measures"
      ]
    },
    {
      "cell_type": "markdown",
      "metadata": {
        "id": "TsrSZ1O8Q4-T"
      },
      "source": [
        "Step1. Import packages\n",
        "\n",
        "The sub-package used to compute the baseline measures is aif360.sklearn. This package allows users to apply the bias metrics on their own datasets. For more information, please refer to\n",
        "https://github.com/Trusted-AI/AIF360/tree/master/aif360/sklearn."
      ]
    },
    {
      "cell_type": "code",
      "metadata": {
        "id": "cd98BWjnQsX1"
      },
      "source": [
        "import numpy as np\n",
        "import pandas as pd\n",
        "\n",
        "!pip install 'aif360[OptimPreproc]' \n",
        "\n",
        "from sklearn.linear_model import LogisticRegression, LogisticRegressionCV, SGDClassifier\n",
        "from sklearn.model_selection import train_test_split, KFold, cross_val_score\n",
        "from aif360.sklearn.metrics import consistency_score,generalized_entropy_error,generalized_entropy_index,theil_index,coefficient_of_variation\n",
        "from aif360.sklearn.metrics import statistical_parity_difference,disparate_impact_ratio,equal_opportunity_difference,average_odds_difference\n",
        "from aif360.sklearn.datasets import standardize_dataset, to_dataframe"
      ],
      "execution_count": null,
      "outputs": []
    },
    {
      "cell_type": "markdown",
      "metadata": {
        "id": "jfxSTFbwiUGh"
      },
      "source": [
        "Step2. Import and preprocess dataset. Initialize objects.\n",
        "\n",
        "Attribute 8 is *Gender* and attribute 12 is *Age*. For more information about preprocessing please refer to https://aif360.readthedocs.io/en/latest/modules/generated/aif360.sklearn.datasets.standardize_dataset.html#aif360.sklearn.datasets.standardize_dataset.  "
      ]
    },
    {
      "cell_type": "code",
      "metadata": {
        "id": "dFzChNY0V6i_"
      },
      "source": [
        "# import dataset\n",
        "df = pd.read_csv(\"german_data_normalized.csv\", header = None)\n",
        "\n",
        "# preprocess data following aif360.sklearn instructions\n",
        "X,y = standardize_dataset(df,prot_attr=[8,12],target=20)\n",
        "\n",
        "# initialize objects\n",
        "dataset = [] # scenario\n",
        "consistency = [] \n",
        "generalized_entropy = []"
      ],
      "execution_count": 168,
      "outputs": []
    },
    {
      "cell_type": "markdown",
      "metadata": {
        "id": "GnyXDVPWSVuQ"
      },
      "source": [
        "Step3. Compute individal and group fairness baseline measures\n",
        "\n",
        "Individual fairness metrics:\n",
        "- Consistency score: measures how similar the labels are for similar instances\n",
        "- Generalised entropy error: measures inequality over a population. This algorithm compares the predictions made by a classifier with the ground truth. To that end, a LogisticRegression is used. Note that no test-train split is made as well as no hyperparameter tuning. \n",
        "\n",
        "First, we compute measures using all attributes in the dataset. "
      ]
    },
    {
      "cell_type": "code",
      "metadata": {
        "colab": {
          "base_uri": "https://localhost:8080/"
        },
        "id": "d7is6I3MV94S",
        "outputId": "009a0c6a-ea83-4c26-87b8-606bb5dfd89a"
      },
      "source": [
        "# Feature combination 1\n",
        "dataset.append('German_all_attributes')\n",
        "consistency.append(consistency_score(X, y))\n",
        "\n",
        "#X_tr, X_te, y_tr, y_te = train_test_split(X, y, random_state = 1,test_size=0.3)\n",
        "model = LogisticRegression(max_iter=1000,random_state=1)\n",
        "model.fit(X,y)\n",
        "y_pred = model.predict(X)\n",
        "print(model.score(X,y))\n",
        "\n",
        "generalized_entropy.append(generalized_entropy_error(y, y_pred,pos_label=0))"
      ],
      "execution_count": 169,
      "outputs": [
        {
          "output_type": "stream",
          "name": "stdout",
          "text": [
            "0.777\n"
          ]
        }
      ]
    },
    {
      "cell_type": "markdown",
      "metadata": {
        "id": "qWs1sGmWnlTb"
      },
      "source": [
        "Second, we exclude the attribute gender from the dataset and compute measures once more."
      ]
    },
    {
      "cell_type": "code",
      "metadata": {
        "id": "lDjZi1vVSVuU",
        "colab": {
          "base_uri": "https://localhost:8080/"
        },
        "outputId": "f5e034a0-4ba7-48c0-a837-ae28bf8dd013"
      },
      "source": [
        "# Feature combination 2.1\n",
        "dataset.append('German_excl_gender')\n",
        "\n",
        "X,y = standardize_dataset(df,prot_attr=[8,12], dropcols=[8], target=20)\n",
        "\n",
        "consistency.append(consistency_score(X, y))\n",
        "\n",
        "#X_tr, X_te, y_tr, y_te = train_test_split(X, y, random_state = 1,test_size=0.3)\n",
        "model = LogisticRegression(max_iter=1000,random_state=1)\n",
        "model.fit(X,y)\n",
        "y_pred = model.predict(X)\n",
        "print(model.score(X,y))\n",
        "\n",
        "generalized_entropy.append(generalized_entropy_error(y, y_pred,pos_label=0))"
      ],
      "execution_count": 170,
      "outputs": [
        {
          "output_type": "stream",
          "name": "stdout",
          "text": [
            "0.771\n"
          ]
        }
      ]
    },
    {
      "cell_type": "markdown",
      "metadata": {
        "id": "LUWXh9DGwBYK"
      },
      "source": [
        "Third, we exclude the attribute age from the dataset and compute measures once more."
      ]
    },
    {
      "cell_type": "code",
      "metadata": {
        "id": "p03bRIhdSVuU",
        "colab": {
          "base_uri": "https://localhost:8080/"
        },
        "outputId": "2aebdfbb-8edb-48f0-b668-12df29dc6e59"
      },
      "source": [
        "# Feature combination 2.1\n",
        "dataset.append('German_excl_age')\n",
        "\n",
        "X,y = standardize_dataset(df,prot_attr=[8,12], dropcols=[12], target=20)\n",
        "\n",
        "consistency.append(consistency_score(X, y))\n",
        "\n",
        "#X_tr, X_te, y_tr, y_te = train_test_split(X, y, random_state = 1,test_size=0.3)\n",
        "model = LogisticRegression(max_iter=1000,random_state=1)\n",
        "model.fit(X,y)\n",
        "y_pred = model.predict(X)\n",
        "print(model.score(X,y))\n",
        "\n",
        "generalized_entropy.append(generalized_entropy_error(y, y_pred,pos_label=0))"
      ],
      "execution_count": 171,
      "outputs": [
        {
          "output_type": "stream",
          "name": "stdout",
          "text": [
            "0.776\n"
          ]
        }
      ]
    },
    {
      "cell_type": "code",
      "metadata": {
        "colab": {
          "base_uri": "https://localhost:8080/",
          "height": 142
        },
        "id": "z_FPY8SEr0ag",
        "outputId": "799512bc-8674-47b4-e881-305afa511301"
      },
      "source": [
        "baseline = pd.concat((np.round(pd.Series(consistency, name='Consistency'),3),np.round(pd.Series(generalized_entropy, name='GEE'),3)),1)\n",
        "baseline.index = dataset\n",
        "baseline"
      ],
      "execution_count": 172,
      "outputs": [
        {
          "output_type": "execute_result",
          "data": {
            "text/html": [
              "<div>\n",
              "<style scoped>\n",
              "    .dataframe tbody tr th:only-of-type {\n",
              "        vertical-align: middle;\n",
              "    }\n",
              "\n",
              "    .dataframe tbody tr th {\n",
              "        vertical-align: top;\n",
              "    }\n",
              "\n",
              "    .dataframe thead th {\n",
              "        text-align: right;\n",
              "    }\n",
              "</style>\n",
              "<table border=\"1\" class=\"dataframe\">\n",
              "  <thead>\n",
              "    <tr style=\"text-align: right;\">\n",
              "      <th></th>\n",
              "      <th>Consistency</th>\n",
              "      <th>GEE</th>\n",
              "    </tr>\n",
              "  </thead>\n",
              "  <tbody>\n",
              "    <tr>\n",
              "      <th>German_all_attributes</th>\n",
              "      <td>0.746</td>\n",
              "      <td>0.094</td>\n",
              "    </tr>\n",
              "    <tr>\n",
              "      <th>German_excl_gender</th>\n",
              "      <td>0.743</td>\n",
              "      <td>0.095</td>\n",
              "    </tr>\n",
              "    <tr>\n",
              "      <th>German_excl_age</th>\n",
              "      <td>0.746</td>\n",
              "      <td>0.093</td>\n",
              "    </tr>\n",
              "  </tbody>\n",
              "</table>\n",
              "</div>"
            ],
            "text/plain": [
              "                       Consistency    GEE\n",
              "German_all_attributes        0.746  0.094\n",
              "German_excl_gender           0.743  0.095\n",
              "German_excl_age              0.746  0.093"
            ]
          },
          "metadata": {},
          "execution_count": 172
        }
      ]
    },
    {
      "cell_type": "markdown",
      "metadata": {
        "id": "wOlvkd-Fb65e"
      },
      "source": [
        "Group fairness metrics:\n",
        "- Statistical parity difference\n",
        "- Disparate impact\n",
        "- Equal opportunity difference\n",
        "- Average odds difference"
      ]
    },
    {
      "cell_type": "code",
      "metadata": {
        "id": "2dsntnFjtsie"
      },
      "source": [
        "df = pd.read_csv(\"german_data_normalized.csv\", header = None)\n",
        "\n",
        "# preprocess data following aif360.sklearn instructions\n",
        "X,y = standardize_dataset(df,prot_attr=[8,12],target=20)\n",
        "X[12] = np.where(X[12]>0.25,int(0),int(1))\n",
        "\n",
        "model = LogisticRegression(max_iter=1000,random_state=1)\n",
        "model.fit(X,y)\n",
        "y_pred = model.predict(X)\n",
        "\n",
        "# initialize objects\n",
        "dataset = [] # scenario\n",
        "stat_par = [] \n",
        "disp_im = []\n",
        "eq_opp = []\n",
        "ave_odds = []"
      ],
      "execution_count": 173,
      "outputs": []
    },
    {
      "cell_type": "markdown",
      "metadata": {
        "id": "SUp-PCQtvp4U"
      },
      "source": [
        "We compute the four group fairness measures by setting `prot_attr` parameter to the index of the protected attribute.\n",
        "\n",
        "First, we compute the metrics focusing on gender."
      ]
    },
    {
      "cell_type": "code",
      "metadata": {
        "id": "T4INo18veIAs"
      },
      "source": [
        "dataset.append('gender/female')\n",
        "stat_par.append(statistical_parity_difference(y,y_pred,prot_attr=8,pos_label=int(0),priv_group=int(1)))\n",
        "disp_im.append(disparate_impact_ratio(y,y_pred,prot_attr=8,pos_label=int(0),priv_group=int(1)))\n",
        "eq_opp.append(equal_opportunity_difference(y,y_pred,8,pos_label=int(0),priv_group=1))\n",
        "ave_odds.append(average_odds_difference(y,y_pred,8,pos_label=int(0),priv_group=1))"
      ],
      "execution_count": 174,
      "outputs": []
    },
    {
      "cell_type": "markdown",
      "metadata": {
        "id": "wbB2HOG0woYY"
      },
      "source": [
        "Second, we compute the metrics focusing on age."
      ]
    },
    {
      "cell_type": "code",
      "metadata": {
        "id": "JaWb5j44SVuX"
      },
      "source": [
        "dataset.append('age/young')\n",
        "stat_par.append(statistical_parity_difference(y,y_pred,prot_attr=12,pos_label=0,priv_group=0)) \n",
        "disp_im.append(disparate_impact_ratio(y,y_pred,prot_attr=12,pos_label=0,priv_group=0))\n",
        "eq_opp.append(equal_opportunity_difference(y,y_pred,12,pos_label=0,priv_group=0))\n",
        "ave_odds.append(average_odds_difference(y,y_pred,12,pos_label=0,priv_group=0))"
      ],
      "execution_count": 175,
      "outputs": []
    },
    {
      "cell_type": "markdown",
      "metadata": {
        "id": "OmGmi8-AxaLT"
      },
      "source": [
        "Finally, we merge the two."
      ]
    },
    {
      "cell_type": "code",
      "metadata": {
        "id": "3xDr6xq0hiUF",
        "colab": {
          "base_uri": "https://localhost:8080/",
          "height": 111
        },
        "outputId": "456b254a-3da4-40f0-c21c-3b5c6a983774"
      },
      "source": [
        "pd.DataFrame(np.array([stat_par, disp_im, eq_opp, ave_odds]).T, \n",
        "             columns = ['Statistical Parity', 'Disparate Impact', \n",
        "             'Equal Opportunity', 'Average Odds'], index = dataset)"
      ],
      "execution_count": 176,
      "outputs": [
        {
          "output_type": "execute_result",
          "data": {
            "text/html": [
              "<div>\n",
              "<style scoped>\n",
              "    .dataframe tbody tr th:only-of-type {\n",
              "        vertical-align: middle;\n",
              "    }\n",
              "\n",
              "    .dataframe tbody tr th {\n",
              "        vertical-align: top;\n",
              "    }\n",
              "\n",
              "    .dataframe thead th {\n",
              "        text-align: right;\n",
              "    }\n",
              "</style>\n",
              "<table border=\"1\" class=\"dataframe\">\n",
              "  <thead>\n",
              "    <tr style=\"text-align: right;\">\n",
              "      <th></th>\n",
              "      <th>Statistical Parity</th>\n",
              "      <th>Disparate Impact</th>\n",
              "      <th>Equal Opportunity</th>\n",
              "      <th>Average Odds</th>\n",
              "    </tr>\n",
              "  </thead>\n",
              "  <tbody>\n",
              "    <tr>\n",
              "      <th>gender/female</th>\n",
              "      <td>-0.116597</td>\n",
              "      <td>0.856079</td>\n",
              "      <td>-0.056102</td>\n",
              "      <td>-0.103055</td>\n",
              "    </tr>\n",
              "    <tr>\n",
              "      <th>age/young</th>\n",
              "      <td>-0.226453</td>\n",
              "      <td>0.773547</td>\n",
              "      <td>-0.104435</td>\n",
              "      <td>-0.308070</td>\n",
              "    </tr>\n",
              "  </tbody>\n",
              "</table>\n",
              "</div>"
            ],
            "text/plain": [
              "               Statistical Parity  ...  Average Odds\n",
              "gender/female           -0.116597  ...     -0.103055\n",
              "age/young               -0.226453  ...     -0.308070\n",
              "\n",
              "[2 rows x 4 columns]"
            ]
          },
          "metadata": {},
          "execution_count": 176
        }
      ]
    }
  ]
}